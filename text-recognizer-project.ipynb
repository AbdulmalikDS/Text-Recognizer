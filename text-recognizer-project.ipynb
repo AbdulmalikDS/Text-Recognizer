{
 "cells": [
  {
   "cell_type": "code",
   "execution_count": 55,
   "metadata": {},
   "outputs": [],
   "source": [
    "import torch\n",
    "import torch.nn as nn\n",
    "import torchvision\n",
    "import torchvision.transforms as transform\n",
    "import matplotlib.pyplot as plt"
   ]
  },
  {
   "cell_type": "code",
   "execution_count": 56,
   "metadata": {},
   "outputs": [
    {
     "name": "stdout",
     "output_type": "stream",
     "text": [
      "2.5.1+cu118\n"
     ]
    }
   ],
   "source": [
    "print(torch.__version__)"
   ]
  },
  {
   "cell_type": "code",
   "execution_count": 57,
   "metadata": {},
   "outputs": [],
   "source": [
    "device = torch.device('cuda' if torch.cuda.is_available() else 'cpu')  # Check for CUDA availability"
   ]
  },
  {
   "cell_type": "code",
   "execution_count": 58,
   "metadata": {},
   "outputs": [],
   "source": [
    "input_size = 784  # 28x28 images\n",
    "hidden_size1 = 100  # First hidden layer size\n",
    "hidden_size2 = 50   # Second hidden layer size\n",
    "num_classes = 10    # Number of classes (digits 0-9)\n",
    "num_epochs = 20     # Increase the number of epochs\n",
    "batch_size = 100    # Batch size\n",
    "learning_rate = 0.0005  # Learning rate"
   ]
  },
  {
   "cell_type": "code",
   "execution_count": 59,
   "metadata": {},
   "outputs": [],
   "source": [
    "def load_data(batch_size):\n",
    "    transform = transform.Compose([transform.ToTensor()])  # Define transformations\n",
    "    train_data = torchvision.datasets.MNIST(root='./data', train=True, transform=transform, download=True)\n",
    "    test_data = torchvision.datasets.MNIST(root='./data', train=False, transform=transform)\n",
    "    train_loader = torch.utils.data.DataLoader(dataset=train_data, batch_size=batch_size, shuffle=True)\n",
    "    test_loader = torch.utils.data.DataLoader(dataset=test_data, batch_size=batch_size, shuffle=False)\n",
    "    return train_loader, test_loader"
   ]
  },
  {
   "cell_type": "code",
   "execution_count": 60,
   "metadata": {},
   "outputs": [
    {
     "name": "stdout",
     "output_type": "stream",
     "text": [
      "torch.Size([100, 1, 28, 28]) torch.Size([100])\n"
     ]
    },
    {
     "data": {
      "image/png": "[encoded data removed]",
      "text/plain": [
       "<Figure size 640x480 with 10 Axes>"
      ]
     },
     "metadata": {},
     "output_type": "display_data"
    }
   ],
   "source": [
    "examples = iter(train_loader)\n",
    "samples, labels = next(examples)\n",
    "print(samples.shape, labels.shape)\n",
    "\n",
    "for i in range(10):\n",
    "    plt.subplot(1, 10, i + 1)\n",
    "    plt.imshow(samples[i][0], cmap=\"viridis\")\n",
    "    plt.axis('off')  # Hide axes\n",
    "plt.show()"
   ]
  },
  {
   "cell_type": "code",
   "execution_count": 61,
   "metadata": {},
   "outputs": [],
   "source": [
    "class NeuralNet(nn.Module):\n",
    "    def __init__(self, input_size, hidden_size1, hidden_size2, num_classes):\n",
    "        super(NeuralNet, self).__init__()\n",
    "        self.l1 = nn.Linear(input_size, hidden_size1)\n",
    "        self.relu1 = nn.ReLU()\n",
    "        self.l2 = nn.Linear(hidden_size1, hidden_size2)\n",
    "        self.relu2 = nn.ReLU()\n",
    "        self.l3 = nn.Linear(hidden_size2, num_classes)\n",
    "\n",
    "    def forward(self, x):\n",
    "        out = self.l1(x)\n",
    "        out = self.relu1(out)\n",
    "        out = self.l2(out)\n",
    "        out = self.relu2(out)\n",
    "        out = self.l3(out)\n",
    "        return out"
   ]
  },
  {
   "cell_type": "code",
   "execution_count": 62,
   "metadata": {},
   "outputs": [],
   "source": [
    "model = NeuralNet(input_size, hidden_size1, hidden_size2, num_classes).to(device)  # Move model to the device"
   ]
  },
  {
   "cell_type": "code",
   "execution_count": 63,
   "metadata": {},
   "outputs": [],
   "source": [
    "criterion = nn.CrossEntropyLoss()  # Define the loss function\n",
    "optimizer = torch.optim.Adam(model.parameters(), lr=learning_rate)  # Define the optimizer"
   ]
  },
  {
   "cell_type": "code",
   "execution_count": 64,
   "metadata": {},
   "outputs": [],
   "source": [
    "def train_model(model, train_loader, criterion, optimizer, num_epochs):\n",
    "    for epoch in range(num_epochs):\n",
    "        for i, (images, labels) in enumerate(train_loader):\n",
    "            images = images.reshape(-1, 28 * 28).to(device)  # Flatten the images\n",
    "            labels = labels.to(device)\n",
    "\n",
    "            outputs = model(images)\n",
    "            loss = criterion(outputs, labels)\n",
    "            optimizer.zero_grad()\n",
    "            loss.backward()\n",
    "            optimizer.step()\n",
    "\n",
    "            if (i + 1) % 100 == 0:\n",
    "                print(f'Epoch [{epoch + 1}/{num_epochs}], Step [{i + 1}/{len(train_loader)}], Loss: {loss.item():.4f}')"
   ]
  },
  {
   "cell_type": "code",
   "execution_count": 65,
   "metadata": {},
   "outputs": [
    {
     "name": "stdout",
     "output_type": "stream",
     "text": [
      "Epoch [1/20], Step [100/600], Loss: 0.6368\n",
      "Epoch [1/20], Step [200/600], Loss: 0.4016\n",
      "Epoch [1/20], Step [300/600], Loss: 0.2936\n",
      "Epoch [1/20], Step [400/600], Loss: 0.2450\n",
      "Epoch [1/20], Step [500/600], Loss: 0.3921\n",
      "Epoch [1/20], Step [600/600], Loss: 0.1732\n",
      "Epoch [2/20], Step [100/600], Loss: 0.2332\n",
      "Epoch [2/20], Step [200/600], Loss: 0.1763\n",
      "Epoch [2/20], Step [300/600], Loss: 0.2260\n",
      "Epoch [2/20], Step [400/600], Loss: 0.2373\n",
      "Epoch [2/20], Step [500/600], Loss: 0.1942\n",
      "Epoch [2/20], Step [600/600], Loss: 0.1358\n",
      "Epoch [3/20], Step [100/600], Loss: 0.1867\n",
      "Epoch [3/20], Step [200/600], Loss: 0.2001\n",
      "Epoch [3/20], Step [300/600], Loss: 0.1495\n",
      "Epoch [3/20], Step [400/600], Loss: 0.2327\n",
      "Epoch [3/20], Step [500/600], Loss: 0.2850\n",
      "Epoch [3/20], Step [600/600], Loss: 0.1433\n",
      "Epoch [4/20], Step [100/600], Loss: 0.2942\n",
      "Epoch [4/20], Step [200/600], Loss: 0.1633\n",
      "Epoch [4/20], Step [300/600], Loss: 0.1527\n",
      "Epoch [4/20], Step [400/600], Loss: 0.1676\n",
      "Epoch [4/20], Step [500/600], Loss: 0.1449\n",
      "Epoch [4/20], Step [600/600], Loss: 0.0978\n",
      "Epoch [5/20], Step [100/600], Loss: 0.1182\n",
      "Epoch [5/20], Step [200/600], Loss: 0.1501\n",
      "Epoch [5/20], Step [300/600], Loss: 0.2135\n",
      "Epoch [5/20], Step [400/600], Loss: 0.1210\n",
      "Epoch [5/20], Step [500/600], Loss: 0.2781\n",
      "Epoch [5/20], Step [600/600], Loss: 0.2224\n",
      "Epoch [6/20], Step [100/600], Loss: 0.1457\n",
      "Epoch [6/20], Step [200/600], Loss: 0.0505\n",
      "Epoch [6/20], Step [300/600], Loss: 0.0568\n",
      "Epoch [6/20], Step [400/600], Loss: 0.0558\n",
      "Epoch [6/20], Step [500/600], Loss: 0.1359\n",
      "Epoch [6/20], Step [600/600], Loss: 0.0553\n",
      "Epoch [7/20], Step [100/600], Loss: 0.1052\n",
      "Epoch [7/20], Step [200/600], Loss: 0.1499\n",
      "Epoch [7/20], Step [300/600], Loss: 0.1417\n",
      "Epoch [7/20], Step [400/600], Loss: 0.0718\n",
      "Epoch [7/20], Step [500/600], Loss: 0.0485\n",
      "Epoch [7/20], Step [600/600], Loss: 0.0673\n",
      "Epoch [8/20], Step [100/600], Loss: 0.0838\n",
      "Epoch [8/20], Step [200/600], Loss: 0.0195\n",
      "Epoch [8/20], Step [300/600], Loss: 0.0174\n",
      "Epoch [8/20], Step [400/600], Loss: 0.0822\n",
      "Epoch [8/20], Step [500/600], Loss: 0.0884\n",
      "Epoch [8/20], Step [600/600], Loss: 0.0525\n",
      "Epoch [9/20], Step [100/600], Loss: 0.0788\n",
      "Epoch [9/20], Step [200/600], Loss: 0.0590\n",
      "Epoch [9/20], Step [300/600], Loss: 0.0363\n",
      "Epoch [9/20], Step [400/600], Loss: 0.0223\n",
      "Epoch [9/20], Step [500/600], Loss: 0.0973\n",
      "Epoch [9/20], Step [600/600], Loss: 0.1132\n",
      "Epoch [10/20], Step [100/600], Loss: 0.0168\n",
      "Epoch [10/20], Step [200/600], Loss: 0.0382\n",
      "Epoch [10/20], Step [300/600], Loss: 0.0403\n",
      "Epoch [10/20], Step [400/600], Loss: 0.0407\n",
      "Epoch [10/20], Step [500/600], Loss: 0.0380\n",
      "Epoch [10/20], Step [600/600], Loss: 0.0812\n",
      "Epoch [11/20], Step [100/600], Loss: 0.0479\n",
      "Epoch [11/20], Step [200/600], Loss: 0.0130\n",
      "Epoch [11/20], Step [300/600], Loss: 0.0960\n",
      "Epoch [11/20], Step [400/600], Loss: 0.0255\n",
      "Epoch [11/20], Step [500/600], Loss: 0.0272\n",
      "Epoch [11/20], Step [600/600], Loss: 0.0974\n",
      "Epoch [12/20], Step [100/600], Loss: 0.0598\n",
      "Epoch [12/20], Step [200/600], Loss: 0.0426\n",
      "Epoch [12/20], Step [300/600], Loss: 0.0663\n",
      "Epoch [12/20], Step [400/600], Loss: 0.0132\n",
      "Epoch [12/20], Step [500/600], Loss: 0.0579\n",
      "Epoch [12/20], Step [600/600], Loss: 0.0277\n",
      "Epoch [13/20], Step [100/600], Loss: 0.0429\n",
      "Epoch [13/20], Step [200/600], Loss: 0.0326\n",
      "Epoch [13/20], Step [300/600], Loss: 0.0084\n",
      "Epoch [13/20], Step [400/600], Loss: 0.0480\n",
      "Epoch [13/20], Step [500/600], Loss: 0.1123\n",
      "Epoch [13/20], Step [600/600], Loss: 0.0638\n",
      "Epoch [14/20], Step [100/600], Loss: 0.0793\n",
      "Epoch [14/20], Step [200/600], Loss: 0.0318\n",
      "Epoch [14/20], Step [300/600], Loss: 0.0639\n",
      "Epoch [14/20], Step [400/600], Loss: 0.0432\n",
      "Epoch [14/20], Step [500/600], Loss: 0.0246\n",
      "Epoch [14/20], Step [600/600], Loss: 0.1257\n",
      "Epoch [15/20], Step [100/600], Loss: 0.0068\n",
      "Epoch [15/20], Step [200/600], Loss: 0.1326\n",
      "Epoch [15/20], Step [300/600], Loss: 0.0315\n",
      "Epoch [15/20], Step [400/600], Loss: 0.0086\n",
      "Epoch [15/20], Step [500/600], Loss: 0.0191\n",
      "Epoch [15/20], Step [600/600], Loss: 0.1297\n",
      "Epoch [16/20], Step [100/600], Loss: 0.0258\n",
      "Epoch [16/20], Step [200/600], Loss: 0.0324\n",
      "Epoch [16/20], Step [300/600], Loss: 0.0354\n",
      "Epoch [16/20], Step [400/600], Loss: 0.0526\n",
      "Epoch [16/20], Step [500/600], Loss: 0.0321\n",
      "Epoch [16/20], Step [600/600], Loss: 0.0309\n",
      "Epoch [17/20], Step [100/600], Loss: 0.0621\n",
      "Epoch [17/20], Step [200/600], Loss: 0.0623\n",
      "Epoch [17/20], Step [300/600], Loss: 0.0181\n",
      "Epoch [17/20], Step [400/600], Loss: 0.0140\n",
      "Epoch [17/20], Step [500/600], Loss: 0.0318\n",
      "Epoch [17/20], Step [600/600], Loss: 0.0457\n",
      "Epoch [18/20], Step [100/600], Loss: 0.0238\n",
      "Epoch [18/20], Step [200/600], Loss: 0.0067\n",
      "Epoch [18/20], Step [300/600], Loss: 0.0311\n",
      "Epoch [18/20], Step [400/600], Loss: 0.0209\n",
      "Epoch [18/20], Step [500/600], Loss: 0.0279\n",
      "Epoch [18/20], Step [600/600], Loss: 0.0284\n",
      "Epoch [19/20], Step [100/600], Loss: 0.0069\n",
      "Epoch [19/20], Step [200/600], Loss: 0.0137\n",
      "Epoch [19/20], Step [300/600], Loss: 0.0131\n",
      "Epoch [19/20], Step [400/600], Loss: 0.0091\n",
      "Epoch [19/20], Step [500/600], Loss: 0.0024\n",
      "Epoch [19/20], Step [600/600], Loss: 0.0018\n",
      "Epoch [20/20], Step [100/600], Loss: 0.0295\n",
      "Epoch [20/20], Step [200/600], Loss: 0.0105\n",
      "Epoch [20/20], Step [300/600], Loss: 0.0342\n",
      "Epoch [20/20], Step [400/600], Loss: 0.0368\n",
      "Epoch [20/20], Step [500/600], Loss: 0.0118\n",
      "Epoch [20/20], Step [600/600], Loss: 0.0298\n"
     ]
    }
   ],
   "source": [
    "train_model(model, train_loader, criterion, optimizer, num_epochs)  # Train the model"
   ]
  },
  {
   "cell_type": "code",
   "execution_count": 66,
   "metadata": {},
   "outputs": [],
   "source": [
    "def evaluate_model(model, test_loader):\n",
    "    with torch.no_grad():\n",
    "        n_correct = 0\n",
    "        n_samples = 0\n",
    "        for images, labels in test_loader:\n",
    "            images = images.reshape(-1, 28 * 28).to(device)  # Flatten the images\n",
    "            labels = labels.to(device)\n",
    "            outputs = model(images)\n",
    "\n",
    "            _, predictions = torch.max(outputs, 1)\n",
    "            n_samples += labels.shape[0]\n",
    "            n_correct += (predictions == labels).sum().item()\n",
    "\n",
    "        acc = 100.0 * n_correct / n_samples\n",
    "        print(f'Accuracy = {acc:.2f}%')"
   ]
  },
  {
   "cell_type": "code",
   "execution_count": 67,
   "metadata": {},
   "outputs": [
    {
     "name": "stdout",
     "output_type": "stream",
     "text": [
      "Accuracy = 97.68%\n"
     ]
    }
   ],
   "source": [
    "evaluate_model(model, test_loader)  # Evaluate the model"
   ]
  },
  {
   "cell_type": "code",
   "execution_count": 83,
   "metadata": {},
   "outputs": [],
   "source": [
    "def test_new_examples(model, image_paths):\n",
    "    for image_path in image_paths:\n",
    "        # Load and preprocess the image\n",
    "        image = Image.open(image_path).convert('L')  # Convert to grayscale\n",
    "        image = image.resize((28, 28))  # Resize to 28x28\n",
    "        image = transform.ToTensor()(image)  # Convert to tensor\n",
    "        image = image.view(-1, 28 * 28).to(device)  # Flatten and move to device\n",
    "\n",
    "        # Make prediction\n",
    "        with torch.no_grad():\n",
    "            output = model(image)\n",
    "            _, predicted = torch.max(output, 1)\n",
    "\n",
    "        # Display the image and prediction\n",
    "        plt.imshow(np.array(image.view(28, 28).cpu()), cmap='viridis')\n",
    "        plt.axis('off')  # Hide axes\n",
    "        plt.title(f'Predicted Label: {predicted.item()}')\n",
    "        plt.show()"
   ]
  },
  {
   "cell_type": "code",
   "execution_count": 102,
   "metadata": {},
   "outputs": [
    {
     "data": {
      "image/png": "[encoded data removed]",
      "text/plain": [
       "<Figure size 640x480 with 1 Axes>"
      ]
     },
     "metadata": {},
     "output_type": "display_data"
    }
   ],
   "source": [
    "test_new_example(model, r\"C:\\Users\\PC\\Desktop\\Projects\\learning\\data\\MNIST\\raw\\image.png\")"
   ]
  }
 ],
 "metadata": {
  "kernelspec": {
   "display_name": "Python 3",
   "language": "python",
   "name": "python3"
  },
  "language_info": {
   "codemirror_mode": {
    "name": "ipython",
    "version": 3
   },
   "file_extension": ".py",
   "mimetype": "text/x-python",
   "name": "python",
   "nbconvert_exporter": "python",
   "pygments_lexer": "ipython3",
   "version": "3.12.4"
  }
 },
 "nbformat": 4,
 "nbformat_minor": 2
}
